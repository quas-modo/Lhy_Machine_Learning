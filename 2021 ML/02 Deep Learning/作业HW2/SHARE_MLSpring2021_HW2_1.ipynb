{
 "nbformat": 4,
 "nbformat_minor": 0,
 "metadata": {
  "accelerator": "GPU",
  "colab": {
   "name": "SHARE MLSpring2021 - HW2-1.ipynb",
   "provenance": [],
   "collapsed_sections": []
  },
  "kernelspec": {
   "name": "python3",
   "language": "python",
   "display_name": "Python 3 (ipykernel)"
  }
 },
 "cells": [
  {
   "cell_type": "markdown",
   "metadata": {
    "id": "OYlaRwNu7ojq"
   },
   "source": [
    "# **Homework 2-1 Phoneme Classification**"
   ]
  },
  {
   "cell_type": "markdown",
   "metadata": {
    "id": "emUd7uS7crTz"
   },
   "source": [
    "## The DARPA TIMIT Acoustic-Phonetic Continuous Speech Corpus (TIMIT)\n",
    "The TIMIT corpus of reading speech has been designed to provide speech data for the acquisition of acoustic-phonetic knowledge and for the development and evaluation of automatic speech recognition systems.\n",
    "\n",
    "This homework is a multiclass classification task, \n",
    "we are going to train a deep neural network classifier to predict the phonemes for each frame from the speech corpus TIMIT.\n",
    "\n",
    "link: https://academictorrents.com/details/34e2b78745138186976cbc27939b1b34d18bd5b3"
   ]
  },
  {
   "cell_type": "markdown",
   "metadata": {
    "id": "KVUGfWTo7_Oj"
   },
   "source": [
    "## Download Data\n",
    "Download data from google drive, then unzip it.\n",
    "\n",
    "You should have `timit_11/train_11.npy`, `timit_11/train_label_11.npy`, and `timit_11/test_11.npy` after running this block.<br><br>\n",
    "`timit_11/`\n",
    "- `train_11.npy`: training data<br>\n",
    "- `train_label_11.npy`: training label<br>\n",
    "- `test_11.npy`:  testing data<br><br>\n",
    "\n",
    "**notes: if the google drive link is dead, you can download the data directly from Kaggle and upload it to the workspace**\n",
    "\n",
    "\n"
   ]
  },
  {
   "cell_type": "code",
   "metadata": {
    "colab": {
     "base_uri": "https://localhost:8080/"
    },
    "id": "OzkiMEcC3Foq",
    "outputId": "4308c64c-6885-4d1c-8eb7-a2d9b8038401",
    "ExecuteTime": {
     "end_time": "2023-11-30T08:56:04.466450100Z",
     "start_time": "2023-11-30T08:56:04.221061900Z"
    }
   },
   "source": [
    "!gdown --id '1HPkcmQmFGu-3OknddKIa5dNDsR05lIQR' --output data.zip\n",
    "!unzip data.zip\n",
    "!ls "
   ],
   "execution_count": 41,
   "outputs": [
    {
     "name": "stderr",
     "output_type": "stream",
     "text": [
      "'gdown' 不是内部或外部命令，也不是可运行的程序\n",
      "或批处理文件。\n",
      "'unzip' 不是内部或外部命令，也不是可运行的程序\n",
      "或批处理文件。\n",
      "'ls' 不是内部或外部命令，也不是可运行的程序\n",
      "或批处理文件。\n"
     ]
    }
   ]
  },
  {
   "cell_type": "markdown",
   "metadata": {
    "id": "_L_4anls8Drv"
   },
   "source": [
    "## Preparing Data\n",
    "Load the training and testing data from the `.npy` file (NumPy array)."
   ]
  },
  {
   "cell_type": "code",
   "metadata": {
    "colab": {
     "base_uri": "https://localhost:8080/"
    },
    "id": "IJjLT8em-y9G",
    "outputId": "8edc6bfe-7511-447f-f239-00b96dba6dcf",
    "ExecuteTime": {
     "end_time": "2023-11-30T08:56:08.715094100Z",
     "start_time": "2023-11-30T08:56:04.395113500Z"
    }
   },
   "source": [
    "import numpy as np\n",
    "\n",
    "print('Loading data ...')\n",
    "\n",
    "data_root='./timit_11/'\n",
    "train = np.load(data_root + 'train_11.npy')\n",
    "train_label = np.load(data_root + 'train_label_11.npy')\n",
    "test = np.load(data_root + 'test_11.npy')\n",
    "\n",
    "print('Size of training data: {}'.format(train.shape))\n",
    "print('Size of testing data: {}'.format(test.shape))"
   ],
   "execution_count": 42,
   "outputs": [
    {
     "name": "stdout",
     "output_type": "stream",
     "text": [
      "Loading data ...\n",
      "Size of training data: (1229932, 429)\n",
      "Size of testing data: (451552, 429)\n"
     ]
    }
   ]
  },
  {
   "cell_type": "markdown",
   "metadata": {
    "id": "us5XW_x6udZQ"
   },
   "source": [
    "## Create Dataset"
   ]
  },
  {
   "cell_type": "code",
   "metadata": {
    "id": "Fjf5EcmJtf4e",
    "ExecuteTime": {
     "end_time": "2023-11-30T08:56:08.732216100Z",
     "start_time": "2023-11-30T08:56:08.716093500Z"
    }
   },
   "source": [
    "import torch\n",
    "from torch.utils.data import Dataset\n",
    "\n",
    "class TIMITDataset(Dataset):\n",
    "    def __init__(self, X, y=None):\n",
    "        self.data = torch.from_numpy(X).float()\n",
    "        if y is not None:\n",
    "            y = y.astype(np.int32)\n",
    "            self.label = torch.LongTensor(y)\n",
    "        else:\n",
    "            self.label = None\n",
    "\n",
    "    def __getitem__(self, idx):\n",
    "        if self.label is not None:\n",
    "            return self.data[idx], self.label[idx]\n",
    "        else:\n",
    "            return self.data[idx]\n",
    "\n",
    "    def __len__(self):\n",
    "        return len(self.data)\n"
   ],
   "execution_count": 43,
   "outputs": []
  },
  {
   "cell_type": "markdown",
   "metadata": {
    "id": "otIC6WhGeh9v"
   },
   "source": [
    "Split the labeled data into a training set and a validation set, you can modify the variable `VAL_RATIO` to change the ratio of validation data."
   ]
  },
  {
   "cell_type": "code",
   "metadata": {
    "colab": {
     "base_uri": "https://localhost:8080/"
    },
    "id": "sYqi_lAuvC59",
    "outputId": "13dabe63-4849-47ee-fe04-57427b9d601c",
    "ExecuteTime": {
     "end_time": "2023-11-30T08:56:08.746406100Z",
     "start_time": "2023-11-30T08:56:08.732216100Z"
    }
   },
   "source": [
    "VAL_RATIO = 0.2\n",
    "\n",
    "percent = int(train.shape[0] * (1 - VAL_RATIO))\n",
    "train_x, train_y, val_x, val_y = train[:percent], train_label[:percent], train[percent:], train_label[percent:]\n",
    "print('Size of training set: {}'.format(train_x.shape))\n",
    "print('Size of validation set: {}'.format(val_x.shape))"
   ],
   "execution_count": 44,
   "outputs": [
    {
     "name": "stdout",
     "output_type": "stream",
     "text": [
      "Size of training set: (983945, 429)\n",
      "Size of validation set: (245987, 429)\n"
     ]
    }
   ]
  },
  {
   "cell_type": "markdown",
   "metadata": {
    "id": "nbCfclUIgMTX"
   },
   "source": [
    "Create a data loader from the dataset, feel free to tweak the variable `BATCH_SIZE` here."
   ]
  },
  {
   "cell_type": "code",
   "metadata": {
    "id": "RUCbQvqJurYc",
    "ExecuteTime": {
     "end_time": "2023-11-30T08:56:09.470360400Z",
     "start_time": "2023-11-30T08:56:08.747406400Z"
    }
   },
   "source": [
    "BATCH_SIZE = 2048\n",
    "\n",
    "from torch.utils.data import DataLoader\n",
    "\n",
    "train_set = TIMITDataset(train_x, train_y)\n",
    "val_set = TIMITDataset(val_x, val_y)\n",
    "train_loader = DataLoader(train_set, batch_size=BATCH_SIZE, shuffle=True) #only shuffle the training data\n",
    "val_loader = DataLoader(val_set, batch_size=BATCH_SIZE, shuffle=False)"
   ],
   "execution_count": 45,
   "outputs": []
  },
  {
   "cell_type": "markdown",
   "metadata": {
    "id": "_SY7X0lUgb50"
   },
   "source": [
    "Cleanup the unneeded variables to save memory.<br>\n",
    "\n",
    "**notes: if you need to use these variables later, then you may remove this block or clean up unneeded variables later<br>the data size is quite huge, so be aware of memory usage in colab**"
   ]
  },
  {
   "cell_type": "code",
   "metadata": {
    "colab": {
     "base_uri": "https://localhost:8080/"
    },
    "id": "y8rzkGraeYeN",
    "outputId": "dc790996-a43c-4a99-90d4-e7928892a899",
    "ExecuteTime": {
     "end_time": "2023-11-30T08:56:09.859779400Z",
     "start_time": "2023-11-30T08:56:09.473371400Z"
    }
   },
   "source": [
    "import gc\n",
    "\n",
    "del train, train_label, train_x, train_y, val_x, val_y\n",
    "gc.collect()"
   ],
   "execution_count": 46,
   "outputs": [
    {
     "data": {
      "text/plain": "33"
     },
     "execution_count": 46,
     "metadata": {},
     "output_type": "execute_result"
    }
   ]
  },
  {
   "cell_type": "markdown",
   "metadata": {
    "id": "IRqKNvNZwe3V"
   },
   "source": [
    "## Create Model"
   ]
  },
  {
   "cell_type": "markdown",
   "metadata": {
    "id": "FYr1ng5fh9pA"
   },
   "source": [
    "Define model architecture, you are encouraged to change and experiment with the model architecture."
   ]
  },
  {
   "cell_type": "markdown",
   "source": [
    "### 激活函数的选择\n",
    "hidden layer:\n",
    "output layer:make a prediction\n",
    "所有隐藏层共用一个激活函数，输出层可以不同，输出层的激活函数取决于模型预测的种类\n",
    "#### 激活函数的种类\n",
    "1. ReLU\n",
    "2. Sigmoid\n",
    "3. Tanh\n",
    "Sigmoid和Tanh是饱和激活函数，而ReLU以及其变种为非饱和激活函数。非饱和激活函数主要有如下优势：\n",
    "1.非饱和激活函数可以解决梯度消失问题。\n",
    "2.非饱和激活函数可以加速收敛。\n",
    "#### 隐藏层的选择\n",
    "根据网络结构进行选择\n",
    "Multilayer Perception: ReLU\n",
    "Convolutional Neural Network: ReLU\n",
    "Recurrent Neural Network: Sigmoid Tanh\n",
    "#### 输出层的选择\n",
    "Binary Classification: One node, sigmoid activation.\n",
    "Multiclass Classification: One node per class, softmax activation.\n",
    "Multilabel Classification: One node per class, sigmoid activation.\n",
    "Regression: Linear Function\n",
    "\n",
    "https://machinelearningmastery.com/choose-an-activation-function-for-deep-learning/\n",
    "https://zhuanlan.zhihu.com/p/427541517"
   ],
   "metadata": {
    "collapsed": false
   }
  },
  {
   "cell_type": "markdown",
   "source": [
    "**dropout**\n",
    "https://zhuanlan.zhihu.com/p/38200980\n",
    "防止过拟合，在每个训练批次中，通过忽略一半的特征检测器（让一半的隐层节点值为0），可以明显地减少过拟合现象。\n",
    "我们在前向传播的时候，让某个神经元的激活值以一定的概率p停止工作，这样可以使模型泛化能力更强，因为它不会太依赖局部的特征\n",
    "加了dropoutout，分数从0.697升到了0.728(private)，可以观察到的是，train和val的acc明显缩小了，在之前没有加dropout的时候应该出现了过拟合的状况\n",
    "\n",
    "**正则化**\n",
    "防止过拟合"
   ],
   "metadata": {
    "collapsed": false
   }
  },
  {
   "cell_type": "code",
   "metadata": {
    "id": "lbZrwT6Ny0XL",
    "ExecuteTime": {
     "end_time": "2023-11-30T08:56:09.904176100Z",
     "start_time": "2023-11-30T08:56:09.864218Z"
    }
   },
   "source": [
    "import torch\n",
    "import torch.nn as nn\n",
    "\n",
    "class Classifier(nn.Module):\n",
    "    def __init__(self):\n",
    "        super(Classifier, self).__init__()\n",
    "        self.layer1 = nn.Linear(429, 1024)\n",
    "        self.layer2 = nn.Linear(1024, 512)\n",
    "        self.layer3 = nn.Linear(512, 128)\n",
    "        self.out = nn.Linear(128, 39) \n",
    "\n",
    "        # self.act_fn = nn.Sigmoid()\n",
    "        self.act_fn = nn.ReLU()\n",
    "        self.dropout = nn.Dropout(0.25)\n",
    "        self.batchnorm1 = nn.BatchNorm1d(1024)\n",
    "        self.batchnorm2 = nn.BatchNorm1d(512)\n",
    "        self.batchnorm3 = nn.BatchNorm1d(128)\n",
    "        \n",
    "    def forward(self, x):\n",
    "        x = self.layer1(x)\n",
    "        x = self.batchnorm1(x)\n",
    "        x = self.act_fn(x)\n",
    "        x = self.dropout(x)\n",
    "\n",
    "        x = self.layer2(x)\n",
    "        x = self.batchnorm2(x)\n",
    "        x = self.act_fn(x)\n",
    "        x = self.dropout(x)\n",
    "\n",
    "        x = self.layer3(x)\n",
    "        x = self.batchnorm3(x)\n",
    "        x = self.act_fn(x)\n",
    "\n",
    "        x = self.out(x)\n",
    "        \n",
    "        return x"
   ],
   "execution_count": 47,
   "outputs": []
  },
  {
   "cell_type": "markdown",
   "metadata": {
    "id": "VRYciXZvPbYh"
   },
   "source": [
    "## Training"
   ]
  },
  {
   "cell_type": "code",
   "metadata": {
    "id": "y114Vmm3Ja6o",
    "ExecuteTime": {
     "end_time": "2023-11-30T08:56:09.911877700Z",
     "start_time": "2023-11-30T08:56:09.876789500Z"
    }
   },
   "source": [
    "#check device\n",
    "def get_device():\n",
    "  return 'cuda' if torch.cuda.is_available() else 'cpu'"
   ],
   "execution_count": 48,
   "outputs": []
  },
  {
   "cell_type": "markdown",
   "metadata": {
    "id": "sEX-yjHjhGuH"
   },
   "source": [
    "Fix random seeds for reproducibility."
   ]
  },
  {
   "cell_type": "code",
   "metadata": {
    "id": "88xPiUnm0tAd",
    "ExecuteTime": {
     "end_time": "2023-11-30T08:56:09.912877900Z",
     "start_time": "2023-11-30T08:56:09.891542100Z"
    }
   },
   "source": [
    "# fix random seed\n",
    "def same_seeds(seed):\n",
    "    torch.manual_seed(seed)\n",
    "    if torch.cuda.is_available():\n",
    "        torch.cuda.manual_seed(seed)\n",
    "        torch.cuda.manual_seed_all(seed)  \n",
    "    np.random.seed(seed)  \n",
    "    torch.backends.cudnn.benchmark = False\n",
    "    torch.backends.cudnn.deterministic = True"
   ],
   "execution_count": 49,
   "outputs": []
  },
  {
   "cell_type": "markdown",
   "metadata": {
    "id": "KbBcBXkSp6RA"
   },
   "source": [
    "Feel free to change the training parameters here."
   ]
  },
  {
   "cell_type": "markdown",
   "source": [
    "### 如何调整超参数\n",
    "https://zhuanlan.zhihu.com/p/433836153\n",
    "batch_size调大一点(512->1024)，更能够反应整个模型的分布情况\n",
    "训练前面使用adam，收斂快，後面使用SGDM，穩定且偏差小\n",
    "以上两步好像没什么用（分数向下波动了一点）"
   ],
   "metadata": {
    "collapsed": false
   }
  },
  {
   "cell_type": "code",
   "metadata": {
    "id": "QTp3ZXg1yO9Y",
    "ExecuteTime": {
     "end_time": "2023-11-30T08:56:09.965737600Z",
     "start_time": "2023-11-30T08:56:09.910669800Z"
    }
   },
   "source": [
    "# fix random seed for reproducibility\n",
    "same_seeds(0)\n",
    "\n",
    "# get device \n",
    "device = get_device()\n",
    "print(f'DEVICE: {device}')\n",
    "\n",
    "# training parameters\n",
    "num_epoch = 30               # number of training epoch\n",
    "learning_rate = 0.0001      # learning rate\n",
    "\n",
    "# the path where checkpoint saved\n",
    "model_path = './model.ckpt'\n",
    "\n",
    "# create model, define a loss function, and optimizer\n",
    "model = Classifier().to(device)\n",
    "criterion = nn.CrossEntropyLoss() \n",
    "optimizer = torch.optim.Adam(model.parameters(), lr=learning_rate)"
   ],
   "execution_count": 50,
   "outputs": [
    {
     "name": "stdout",
     "output_type": "stream",
     "text": [
      "DEVICE: cuda\n"
     ]
    }
   ]
  },
  {
   "cell_type": "code",
   "metadata": {
    "id": "CdMWsBs7zzNs",
    "colab": {
     "base_uri": "https://localhost:8080/"
    },
    "outputId": "c5ed561e-610d-4a35-d936-fd97adf342a0",
    "ExecuteTime": {
     "end_time": "2023-11-30T09:02:11.432440500Z",
     "start_time": "2023-11-30T08:56:09.937986100Z"
    }
   },
   "source": [
    "# start training\n",
    "\n",
    "best_acc = 0.0\n",
    "for epoch in range(num_epoch):\n",
    "    train_acc = 0.0\n",
    "    train_loss = 0.0\n",
    "    val_acc = 0.0\n",
    "    val_loss = 0.0\n",
    "    \n",
    "    if epoch == 0:\n",
    "        optimizer = torch.optim.Adam(model.parameters(), lr=learning_rate)\n",
    "    elif epoch == 35:\n",
    "        optimizer = torch.optim.SGD(model.parameters(), lr=learning_rate)\n",
    "\n",
    "    # training\n",
    "    model.train() # set the model to training mode\n",
    "    for i, data in enumerate(train_loader):\n",
    "        inputs, labels = data\n",
    "        inputs, labels = inputs.to(device), labels.to(device)\n",
    "        optimizer.zero_grad() \n",
    "        outputs = model(inputs) \n",
    "        batch_loss = criterion(outputs, labels)\n",
    "        _, train_pred = torch.max(outputs, 1) # get the index of the class with the highest probability\n",
    "        batch_loss.backward() \n",
    "        optimizer.step() \n",
    "\n",
    "        train_acc += (train_pred.cpu() == labels.cpu()).sum().item()\n",
    "        train_loss += batch_loss.item()\n",
    "\n",
    "    # validation\n",
    "    if len(val_set) > 0:\n",
    "        model.eval() # set the model to evaluation mode\n",
    "        with torch.no_grad():\n",
    "            for i, data in enumerate(val_loader):\n",
    "                inputs, labels = data\n",
    "                inputs, labels = inputs.to(device), labels.to(device)\n",
    "                outputs = model(inputs)\n",
    "                batch_loss = criterion(outputs, labels) \n",
    "                _, val_pred = torch.max(outputs, 1) \n",
    "            \n",
    "                val_acc += (val_pred.cpu() == labels.cpu()).sum().item() # get the index of the class with the highest probability\n",
    "                val_loss += batch_loss.item()\n",
    "\n",
    "            print('[{:03d}/{:03d}] Train Acc: {:3.6f} Loss: {:3.6f} | Val Acc: {:3.6f} loss: {:3.6f}'.format(\n",
    "                epoch + 1, num_epoch, train_acc/len(train_set), train_loss/len(train_loader), val_acc/len(val_set), val_loss/len(val_loader)\n",
    "            ))\n",
    "\n",
    "            # if the model improves, save a checkpoint at this epoch\n",
    "            if val_acc > best_acc:\n",
    "                best_acc = val_acc\n",
    "                torch.save(model.state_dict(), model_path)\n",
    "                print('saving model with acc {:.3f}'.format(best_acc/len(val_set)))\n",
    "    else:\n",
    "        print('[{:03d}/{:03d}] Train Acc: {:3.6f} Loss: {:3.6f}'.format(\n",
    "            epoch + 1, num_epoch, train_acc/len(train_set), train_loss/len(train_loader)\n",
    "        ))\n",
    "\n",
    "# if not validating, save the last epoch\n",
    "if len(val_set) == 0:\n",
    "    torch.save(model.state_dict(), model_path)\n",
    "    print('saving model at last epoch')\n"
   ],
   "execution_count": 51,
   "outputs": [
    {
     "name": "stdout",
     "output_type": "stream",
     "text": [
      "[001/030] Train Acc: 0.475047 Loss: 2.071988 | Val Acc: 0.591226 loss: 1.489692\n",
      "saving model with acc 0.591\n",
      "[002/030] Train Acc: 0.586256 Loss: 1.435075 | Val Acc: 0.645693 loss: 1.194905\n",
      "saving model with acc 0.646\n",
      "[003/030] Train Acc: 0.623506 Loss: 1.252504 | Val Acc: 0.671275 loss: 1.072465\n",
      "saving model with acc 0.671\n",
      "[004/030] Train Acc: 0.642894 Loss: 1.162535 | Val Acc: 0.685081 loss: 1.009409\n",
      "saving model with acc 0.685\n",
      "[005/030] Train Acc: 0.655290 Loss: 1.107640 | Val Acc: 0.693585 loss: 0.971857\n",
      "saving model with acc 0.694\n",
      "[006/030] Train Acc: 0.664505 Loss: 1.068133 | Val Acc: 0.699817 loss: 0.941179\n",
      "saving model with acc 0.700\n",
      "[007/030] Train Acc: 0.671920 Loss: 1.037999 | Val Acc: 0.704671 loss: 0.922080\n",
      "saving model with acc 0.705\n",
      "[008/030] Train Acc: 0.678518 Loss: 1.013155 | Val Acc: 0.708826 loss: 0.903701\n",
      "saving model with acc 0.709\n",
      "[009/030] Train Acc: 0.683448 Loss: 0.992645 | Val Acc: 0.711908 loss: 0.891529\n",
      "saving model with acc 0.712\n",
      "[010/030] Train Acc: 0.688391 Loss: 0.973675 | Val Acc: 0.715131 loss: 0.878483\n",
      "saving model with acc 0.715\n",
      "[011/030] Train Acc: 0.692597 Loss: 0.957638 | Val Acc: 0.717770 loss: 0.869483\n",
      "saving model with acc 0.718\n",
      "[012/030] Train Acc: 0.696164 Loss: 0.942819 | Val Acc: 0.720461 loss: 0.858164\n",
      "saving model with acc 0.720\n",
      "[013/030] Train Acc: 0.700212 Loss: 0.929731 | Val Acc: 0.722957 loss: 0.851140\n",
      "saving model with acc 0.723\n",
      "[014/030] Train Acc: 0.702619 Loss: 0.917860 | Val Acc: 0.724140 loss: 0.844806\n",
      "saving model with acc 0.724\n",
      "[015/030] Train Acc: 0.706307 Loss: 0.906916 | Val Acc: 0.726416 loss: 0.837989\n",
      "saving model with acc 0.726\n",
      "[016/030] Train Acc: 0.708259 Loss: 0.897105 | Val Acc: 0.727193 loss: 0.833385\n",
      "saving model with acc 0.727\n",
      "[017/030] Train Acc: 0.711428 Loss: 0.887158 | Val Acc: 0.728547 loss: 0.828061\n",
      "saving model with acc 0.729\n",
      "[018/030] Train Acc: 0.713192 Loss: 0.879271 | Val Acc: 0.730217 loss: 0.823059\n",
      "saving model with acc 0.730\n",
      "[019/030] Train Acc: 0.716173 Loss: 0.870632 | Val Acc: 0.730018 loss: 0.820151\n",
      "[020/030] Train Acc: 0.717225 Loss: 0.863632 | Val Acc: 0.731880 loss: 0.814488\n",
      "saving model with acc 0.732\n",
      "[021/030] Train Acc: 0.719633 Loss: 0.856357 | Val Acc: 0.732929 loss: 0.812764\n",
      "saving model with acc 0.733\n",
      "[022/030] Train Acc: 0.721820 Loss: 0.848662 | Val Acc: 0.733848 loss: 0.808985\n",
      "saving model with acc 0.734\n",
      "[023/030] Train Acc: 0.724316 Loss: 0.840700 | Val Acc: 0.734132 loss: 0.806475\n",
      "saving model with acc 0.734\n",
      "[024/030] Train Acc: 0.725388 Loss: 0.835305 | Val Acc: 0.735132 loss: 0.805363\n",
      "saving model with acc 0.735\n",
      "[025/030] Train Acc: 0.727291 Loss: 0.827815 | Val Acc: 0.735254 loss: 0.802757\n",
      "saving model with acc 0.735\n",
      "[026/030] Train Acc: 0.729121 Loss: 0.821837 | Val Acc: 0.736697 loss: 0.798925\n",
      "saving model with acc 0.737\n",
      "[027/030] Train Acc: 0.730612 Loss: 0.817294 | Val Acc: 0.737263 loss: 0.796845\n",
      "saving model with acc 0.737\n",
      "[028/030] Train Acc: 0.732656 Loss: 0.810738 | Val Acc: 0.736864 loss: 0.795475\n",
      "[029/030] Train Acc: 0.733825 Loss: 0.805832 | Val Acc: 0.738368 loss: 0.793484\n",
      "saving model with acc 0.738\n",
      "[030/030] Train Acc: 0.735257 Loss: 0.800829 | Val Acc: 0.739141 loss: 0.791523\n",
      "saving model with acc 0.739\n"
     ]
    }
   ]
  },
  {
   "cell_type": "markdown",
   "metadata": {
    "id": "1Hi7jTn3PX-m"
   },
   "source": [
    "## Testing"
   ]
  },
  {
   "cell_type": "markdown",
   "metadata": {
    "id": "NfUECMFCn5VG"
   },
   "source": [
    "Create a testing dataset, and load model from the saved checkpoint."
   ]
  },
  {
   "cell_type": "code",
   "metadata": {
    "id": "1PKjtAScPWtr",
    "colab": {
     "base_uri": "https://localhost:8080/"
    },
    "outputId": "8c17272b-536a-4692-a95f-a3292766c698",
    "ExecuteTime": {
     "end_time": "2023-11-30T09:02:11.555799400Z",
     "start_time": "2023-11-30T09:02:11.438442300Z"
    }
   },
   "source": [
    "# create testing dataset\n",
    "test_set = TIMITDataset(test, None)\n",
    "test_loader = DataLoader(test_set, batch_size=BATCH_SIZE, shuffle=False)\n",
    "\n",
    "# create model and load weights from checkpoint\n",
    "model = Classifier().to(device)\n",
    "model.load_state_dict(torch.load(model_path))"
   ],
   "execution_count": 52,
   "outputs": [
    {
     "data": {
      "text/plain": "<All keys matched successfully>"
     },
     "execution_count": 52,
     "metadata": {},
     "output_type": "execute_result"
    }
   ]
  },
  {
   "cell_type": "markdown",
   "metadata": {
    "id": "940TtCCdoYd0"
   },
   "source": [
    "Make prediction."
   ]
  },
  {
   "cell_type": "code",
   "metadata": {
    "id": "84HU5GGjPqR0",
    "ExecuteTime": {
     "end_time": "2023-11-30T09:02:13.332504100Z",
     "start_time": "2023-11-30T09:02:11.564494800Z"
    }
   },
   "source": [
    "predict = []\n",
    "model.eval() # set the model to evaluation mode\n",
    "with torch.no_grad():\n",
    "    for i, data in enumerate(test_loader):\n",
    "        inputs = data\n",
    "        inputs = inputs.to(device)\n",
    "        outputs = model(inputs)\n",
    "        _, test_pred = torch.max(outputs, 1) # get the index of the class with the highest probability\n",
    "\n",
    "        for y in test_pred.cpu().numpy():\n",
    "            predict.append(y)"
   ],
   "execution_count": 53,
   "outputs": []
  },
  {
   "cell_type": "markdown",
   "metadata": {
    "id": "AWDf_C-omElb"
   },
   "source": [
    "Write prediction to a CSV file.\n",
    "\n",
    "After finish running this block, download the file `prediction.csv` from the files section on the left-hand side and submit it to Kaggle."
   ]
  },
  {
   "cell_type": "code",
   "metadata": {
    "id": "GuljYSPHcZir",
    "ExecuteTime": {
     "end_time": "2023-11-30T09:02:13.673596300Z",
     "start_time": "2023-11-30T09:02:13.334503600Z"
    }
   },
   "source": [
    "with open('prediction.csv', 'w') as f:\n",
    "    f.write('Id,Class\\n')\n",
    "    for i, y in enumerate(predict):\n",
    "        f.write('{},{}\\n'.format(i, y))"
   ],
   "execution_count": 54,
   "outputs": []
  },
  {
   "cell_type": "code",
   "execution_count": 54,
   "outputs": [],
   "source": [],
   "metadata": {
    "collapsed": false,
    "ExecuteTime": {
     "end_time": "2023-11-30T09:02:13.688412500Z",
     "start_time": "2023-11-30T09:02:13.673596300Z"
    }
   }
  }
 ]
}
