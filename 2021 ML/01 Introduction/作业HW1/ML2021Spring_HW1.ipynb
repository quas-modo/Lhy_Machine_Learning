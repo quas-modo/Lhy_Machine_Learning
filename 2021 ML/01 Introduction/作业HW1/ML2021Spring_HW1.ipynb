{
 "nbformat": 4,
 "nbformat_minor": 0,
 "metadata": {
  "colab": {
   "name": "ML2021Spring - HW1.ipynb",
   "provenance": [],
   "collapsed_sections": [],
   "toc_visible": true
  },
  "kernelspec": {
   "name": "python3",
   "language": "python",
   "display_name": "Python 3 (ipykernel)"
  },
  "accelerator": "GPU"
 },
 "cells": [
  {
   "cell_type": "markdown",
   "metadata": {
    "id": "mz0_QVkxCrX3"
   },
   "source": [
    "# **Homework 1: COVID-19 Cases Prediction (Regression)**"
   ]
  },
  {
   "cell_type": "markdown",
   "metadata": {
    "id": "ZeZnPAiwDRWG"
   },
   "source": [
    "Author: Heng-Jui Chang\n",
    "\n",
    "Slides: https://github.com/ga642381/ML2021-Spring/blob/main/HW01/HW01.pdf  \n",
    "Video: TBA\n",
    "\n",
    "Objectives:\n",
    "* Solve a regression problem with deep neural networks (DNN).\n",
    "* Understand basic DNN training tips.\n",
    "* Get familiar with PyTorch.\n",
    "\n",
    "If any questions, please contact the TAs via TA hours, NTU COOL, or email.\n"
   ]
  },
  {
   "cell_type": "markdown",
   "metadata": {
    "id": "Jx3x1nDkG-Uy"
   },
   "source": [
    "# **Download Data**\n",
    "\n",
    "\n",
    "If the Google drive links are dead, you can download data from [kaggle](https://www.kaggle.com/c/ml2021spring-hw1/data), and upload data manually to the workspace."
   ]
  },
  {
   "cell_type": "code",
   "metadata": {
    "colab": {
     "base_uri": "https://localhost:8080/"
    },
    "id": "tMj55YDKG6ch",
    "outputId": "fc40ecc9-4756-48b1-d5c6-c169a8b453b2",
    "ExecuteTime": {
     "end_time": "2023-11-01T15:18:30.870252400Z",
     "start_time": "2023-11-01T15:18:30.654640600Z"
    }
   },
   "source": [
    "tr_path = 'covid.train.csv'  # path to training data\n",
    "tt_path = 'covid.test.csv'   # path to testing data\n",
    "\n",
    "!gdown --id '19CCyCgJrUxtvgZF53vnctJiOJ23T5mqF' --output covid.train.csv\n",
    "!gdown --id '1CE240jLm2npU-tdz81-oVKEF3T2yfT1O' --output covid.test.csv"
   ],
   "execution_count": 382,
   "outputs": [
    {
     "name": "stderr",
     "output_type": "stream",
     "text": [
      "'gdown' 不是内部或外部命令，也不是可运行的程序\n",
      "或批处理文件。\n",
      "'gdown' 不是内部或外部命令，也不是可运行的程序\n",
      "或批处理文件。\n"
     ]
    }
   ]
  },
  {
   "cell_type": "markdown",
   "metadata": {
    "id": "wS_4-77xHk44"
   },
   "source": [
    "# **Import Some Packages**"
   ]
  },
  {
   "cell_type": "code",
   "metadata": {
    "id": "k-onQd4JNA5H",
    "ExecuteTime": {
     "end_time": "2023-11-01T15:18:30.870252400Z",
     "start_time": "2023-11-01T15:18:30.767451200Z"
    }
   },
   "source": [
    "# PyTorch\n",
    "import torch\n",
    "import torch.nn as nn\n",
    "from torch.utils.data import Dataset, DataLoader\n",
    "\n",
    "# For data preprocess\n",
    "import numpy as np\n",
    "import csv\n",
    "import os\n",
    "\n",
    "# For plotting\n",
    "import matplotlib.pyplot as plt\n",
    "from matplotlib.pyplot import figure\n",
    "\n",
    "myseed = 42069  # set a random seed for reproducibility\n",
    "torch.backends.cudnn.deterministic = True\n",
    "torch.backends.cudnn.benchmark = False\n",
    "np.random.seed(myseed)\n",
    "# set the seed to let the random_numbers same, different seed has different results\n",
    "random_numbers = np.random.rand(5)\n",
    "print('random_numbers: ', end='')\n",
    "print(random_numbers)\n",
    "# set cpu seed to let others remake the result 设置随机数种子，方便下次复现结果\n",
    "torch.manual_seed(myseed)\n",
    "if torch.cuda.is_available():\n",
    "    torch.cuda.manual_seed_all(myseed)"
   ],
   "execution_count": 383,
   "outputs": [
    {
     "name": "stdout",
     "output_type": "stream",
     "text": [
      "random_numbers: [0.03050837 0.4194086  0.87769215 0.71350281 0.32398232]\n"
     ]
    }
   ]
  },
  {
   "cell_type": "markdown",
   "metadata": {
    "id": "BtE3b6JEH7rw"
   },
   "source": [
    "# **Some Utilities**\n",
    "\n",
    "You do not need to modify this part."
   ]
  },
  {
   "cell_type": "code",
   "metadata": {
    "id": "FWMT3uf1NGQp",
    "ExecuteTime": {
     "end_time": "2023-11-01T15:18:30.870252400Z",
     "start_time": "2023-11-01T15:18:30.783450700Z"
    }
   },
   "source": [
    "def get_device():\n",
    "    ''' Get device (if GPU is available, use GPU) '''\n",
    "    return 'cuda' if torch.cuda.is_available() else 'cpu'\n",
    "\n",
    "def plot_learning_curve(loss_record, title=''):\n",
    "    ''' Plot learning curve of your DNN (train & dev loss) '''\n",
    "    total_steps = len(loss_record['train'])\n",
    "    x_1 = range(total_steps) # 所有训练步骤\n",
    "    x_2 = x_1[::len(loss_record['train']) // len(loss_record['dev'])] # 间隔训练步骤\n",
    "    figure(figsize=(6, 4))\n",
    "    plt.plot(x_1, loss_record['train'], c='tab:red', label='train') # 训练损失训练曲线\n",
    "    plt.plot(x_2, loss_record['dev'], c='tab:cyan', label='dev') # 验证损失训练曲线\n",
    "    plt.ylim(0.0, 5.) # 设置y轴范围\n",
    "    plt.xlabel('Training steps')\n",
    "    plt.ylabel('MSE loss')\n",
    "    plt.title('Learning curve of {}'.format(title))\n",
    "    plt.legend() # 显示图例\n",
    "    plt.show()\n",
    "\n",
    "\n",
    "def plot_pred(dv_set, model, device, lim=35., preds=None, targets=None):\n",
    "    ''' Plot prediction of your DNN '''\n",
    "    if preds is None or targets is None:\n",
    "        model.eval()\n",
    "        preds, targets = [], []\n",
    "        for x, y in dv_set:\n",
    "            # x为输入数据，y为标签\n",
    "            x, y = x.to(device), y.to(device)\n",
    "            with torch.no_grad():\n",
    "                pred = model(x)\n",
    "                preds.append(pred.detach().cpu())\n",
    "                targets.append(y.detach().cpu())\n",
    "        preds = torch.cat(preds, dim=0).numpy()\n",
    "        targets = torch.cat(targets, dim=0).numpy()\n",
    "\n",
    "    figure(figsize=(5, 5))\n",
    "    plt.scatter(targets, preds, c='r', alpha=0.5) # 横轴为目标值target，纵轴为预测值preds\n",
    "    plt.plot([-0.2, lim], [-0.2, lim], c='b') # 表示理想情况下目标值和预测值的一致性\n",
    "    plt.xlim(-0.2, lim)\n",
    "    plt.ylim(-0.2, lim)\n",
    "    plt.xlabel('ground truth value')\n",
    "    plt.ylabel('predicted value')\n",
    "    plt.title('Ground Truth v.s. Prediction')\n",
    "    plt.show()"
   ],
   "execution_count": 384,
   "outputs": []
  },
  {
   "cell_type": "markdown",
   "metadata": {
    "id": "39U_XFX6KOoj"
   },
   "source": [
    "# **Preprocess**\n",
    "\n",
    "We have three kinds of datasets:\n",
    "* `train`: for training\n",
    "* `dev`: for validation\n",
    "* `test`: for testing (w/o target value)"
   ]
  },
  {
   "cell_type": "markdown",
   "metadata": {
    "id": "TQ-MdwpLL7Dt"
   },
   "source": [
    "## **Dataset**\n",
    "\n",
    "The `COVID19Dataset` below does:\n",
    "* read `.csv` files\n",
    "* extract features\n",
    "* split `covid.train.csv` into train/dev sets\n",
    "* normalize features\n",
    "\n",
    "Finishing `TODO` below might make you pass medium baseline."
   ]
  },
  {
   "cell_type": "code",
   "metadata": {
    "id": "0zlpIp9ANJRU",
    "ExecuteTime": {
     "end_time": "2023-11-01T15:18:30.875255100Z",
     "start_time": "2023-11-01T15:18:30.799920300Z"
    }
   },
   "source": [
    "class COVID19Dataset(Dataset):\n",
    "    ''' Dataset for loading and preprocessing the COVID19 dataset '''\n",
    "    def __init__(self,\n",
    "                 path,\n",
    "                 mode='train',\n",
    "                 target_only=False):\n",
    "        self.mode = mode\n",
    "\n",
    "        # Read data into numpy arrays\n",
    "        with open(path, 'r') as fp:\n",
    "            data = list(csv.reader(fp))\n",
    "            # data[1:] 去掉第一行, [:, 1:]去掉第一列，达到纯数据\n",
    "            data = np.array(data[1:])[:, 1:].astype(float) \n",
    "        \n",
    "        if not target_only:\n",
    "            feats = list(range(93))\n",
    "        else:\n",
    "            # TODO: Using 40 states & 2 tested_positive features (indices = 57 & 75)\n",
    "            # feats = list(range(40))\n",
    "            # feats.append(57)\n",
    "            # feats.append(75)\n",
    "            feats = [75, 57, 42, 60, 78, 43, 61, 79, 40, 58, 76, 41, 59, 77]\n",
    "            \n",
    "            pass\n",
    "\n",
    "        if mode == 'test':\n",
    "            # Testing data\n",
    "            # data: 893 x 93 (40 states + day 1 (18) + day 2 (18) + day 3 (17))\n",
    "            data = data[:, feats]\n",
    "            self.data = torch.FloatTensor(data)\n",
    "        else:\n",
    "            # Training data (train/dev sets)\n",
    "            # data: 2700 x 94 (40 states + day 1 (18) + day 2 (18) + day 3 (18))\n",
    "            target = data[:, -1]\n",
    "            data = data[:, feats]\n",
    "            \n",
    "            # Splitting training data into train & dev sets\n",
    "            if mode == 'train':\n",
    "                indices = [i for i in range(len(data)) if i % 10 != 0]\n",
    "            elif mode == 'dev':\n",
    "                indices = [i for i in range(len(data)) if i % 10 == 0]\n",
    "            \n",
    "            # Convert data into PyTorch tensors\n",
    "            self.data = torch.FloatTensor(data[indices])\n",
    "            self.target = torch.FloatTensor(target[indices])\n",
    "\n",
    "        # Normalize features (you may remove this part to see what will happen)\n",
    "        # 除了州以外的数据做归一化\n",
    "        print(self.data[:, 40:])\n",
    "        self.data[:, 40:] = \\\n",
    "            (self.data[:, 40:] - self.data[:, 40:].mean(dim=0, keepdim=True)) \\\n",
    "            / self.data[:, 40:].std(dim=0, keepdim=True)\n",
    "        print(self.data[:, 40:])\n",
    "        self.dim = self.data.shape[1]\n",
    "\n",
    "        print('Finished reading the {} set of COVID19 Dataset ({} samples found, each dim = {})'\n",
    "              .format(mode, len(self.data), self.dim))\n",
    "\n",
    "    def __getitem__(self, index):\n",
    "        # Returns one sample at a time\n",
    "        if self.mode in ['train', 'dev']:\n",
    "            # For training\n",
    "            return self.data[index], self.target[index]\n",
    "        else:\n",
    "            # For testing (no target)\n",
    "            return self.data[index]\n",
    "\n",
    "    def __len__(self):\n",
    "        # Returns the size of the dataset\n",
    "        return len(self.data)"
   ],
   "execution_count": 385,
   "outputs": []
  },
  {
   "cell_type": "markdown",
   "metadata": {
    "id": "AlhTlkE7MDo3"
   },
   "source": [
    "## **DataLoader**\n",
    "\n",
    "A `DataLoader` loads data from a given `Dataset` into batches.\n"
   ]
  },
  {
   "cell_type": "code",
   "metadata": {
    "id": "hlhLk5t6MBX3",
    "ExecuteTime": {
     "end_time": "2023-11-01T15:18:30.876255100Z",
     "start_time": "2023-11-01T15:18:30.810716Z"
    }
   },
   "source": [
    "def prep_dataloader(path, mode, batch_size, n_jobs=0, target_only=False):\n",
    "    ''' Generates a dataset, then is put into a dataloader. '''\n",
    "    dataset = COVID19Dataset(path, mode=mode, target_only=target_only)  # Construct dataset\n",
    "    dataloader = DataLoader(\n",
    "        dataset, batch_size,\n",
    "        shuffle=(mode == 'train'), drop_last=False,\n",
    "        num_workers=n_jobs, pin_memory=True)                            # Construct dataloader\n",
    "    return dataloader"
   ],
   "execution_count": 386,
   "outputs": []
  },
  {
   "cell_type": "markdown",
   "metadata": {
    "id": "SGuycwR0MeQB"
   },
   "source": [
    "# **Deep Neural Network**\n",
    "\n",
    "`NeuralNet` is an `nn.Module` designed for regression.\n",
    "The DNN consists of 2 fully-connected layers with ReLU activation.\n",
    "This module also included a function `cal_loss` for calculating loss.\n"
   ]
  },
  {
   "cell_type": "code",
   "metadata": {
    "id": "49-uXYovOAI0",
    "ExecuteTime": {
     "end_time": "2023-11-01T15:18:30.945845200Z",
     "start_time": "2023-11-01T15:18:30.825644500Z"
    }
   },
   "source": [
    "class NeuralNet(nn.Module):\n",
    "    ''' A simple fully-connected deep neural network '''\n",
    "    def __init__(self, input_dim):\n",
    "        super(NeuralNet, self).__init__()\n",
    "\n",
    "        # Define your neural network here\n",
    "        # TODO: How to modify this model to achieve better performance?\n",
    "        self.net = nn.Sequential(\n",
    "            nn.Linear(input_dim, 32), # nn.Linear(输入维度,输出维度)\n",
    "            nn.BatchNorm1d(32),\n",
    "            nn.Dropout(p=0.2),\n",
    "            nn.LeakyReLU(),\n",
    "            nn.Linear(32, 1)\n",
    "        )\n",
    "        # self.net = nn.Sequential(\n",
    "        #     nn.Linear(input_dim, 128),\n",
    "        #     nn.ReLU(),\n",
    "        #     nn.BatchNorm1d(128),\n",
    "        #     nn.Dropout(0.5),\n",
    "        #     nn.Linear(128, 64),\n",
    "        #     nn.ReLU(),\n",
    "        #     nn.BatchNorm1d(64),\n",
    "        #     nn.Dropout(0.5),\n",
    "        #     nn.Linear(64, 1)\n",
    "        # )\n",
    "\n",
    "        # Mean squared error loss\n",
    "        self.criterion = nn.MSELoss(reduction='mean')\n",
    "\n",
    "    def forward(self, x):\n",
    "        ''' Given input of size (batch_size x input_dim), compute output of the network '''\n",
    "        return self.net(x).squeeze(1)\n",
    "\n",
    "    def cal_loss(self, pred, target):\n",
    "        ''' Calculate loss '''\n",
    "        # TODO: you may implement L2 regularization here\n",
    "        regularization_loss = 0\n",
    "        for param in model.parameters():\n",
    "            regularization_loss += torch.norm(param, p=2).pow(2)\n",
    "        return self.criterion(pred, target) + 0.01 * regularization_loss"
   ],
   "execution_count": 387,
   "outputs": []
  },
  {
   "cell_type": "markdown",
   "metadata": {
    "id": "DvFWVjZ5Nvga"
   },
   "source": [
    "# **Train/Dev/Test**"
   ]
  },
  {
   "cell_type": "markdown",
   "metadata": {
    "id": "MAM8QecJOyqn"
   },
   "source": [
    "## **Training**"
   ]
  },
  {
   "cell_type": "code",
   "metadata": {
    "id": "lOqcmYzMO7jB",
    "ExecuteTime": {
     "end_time": "2023-11-01T15:18:30.964141200Z",
     "start_time": "2023-11-01T15:18:30.844255200Z"
    }
   },
   "source": [
    "def train(tr_set, dv_set, model, config, device):\n",
    "    ''' DNN training '''\n",
    "\n",
    "    n_epochs = config['n_epochs']  # Maximum number of epochs\n",
    "\n",
    "    # Setup optimizer\n",
    "    # 优化器， 用于更新模型参数的算法\n",
    "    optimizer = getattr(torch.optim, config['optimizer'])(\n",
    "        model.parameters(), **config['optim_hparas'])\n",
    "\n",
    "    min_mse = 1000.\n",
    "    loss_record = {'train': [], 'dev': []}      # for recording training loss\n",
    "    early_stop_cnt = 0\n",
    "    epoch = 0\n",
    "    while epoch < n_epochs:\n",
    "        model.train()                           # set model to training mode\n",
    "        for x, y in tr_set:                     # iterate through the dataloader\n",
    "            optimizer.zero_grad()               # set gradient to zero\n",
    "            x, y = x.to(device), y.to(device)   # move data to device (cpu/cuda)\n",
    "            pred = model(x)                     # forward pass (compute output)\n",
    "            mse_loss = model.cal_loss(pred, y)  # compute loss\n",
    "            mse_loss.backward()                 # compute gradient (backpropagation)\n",
    "            optimizer.step()                    # update model with optimizer\n",
    "            loss_record['train'].append(mse_loss.detach().cpu().item())\n",
    "\n",
    "        # After each epoch, test your model on the validation (development) set.\n",
    "        dev_mse = dev(dv_set, model, device)\n",
    "        if dev_mse < min_mse:\n",
    "            # Save model if your model improved\n",
    "            min_mse = dev_mse\n",
    "            print('Saving model (epoch = {:4d}, loss = {:.4f})'\n",
    "                .format(epoch + 1, min_mse))\n",
    "            torch.save(model.state_dict(), config['save_path'])  # Save model to specified path\n",
    "            early_stop_cnt = 0\n",
    "        else:\n",
    "            early_stop_cnt += 1\n",
    "\n",
    "        epoch += 1\n",
    "        loss_record['dev'].append(dev_mse)\n",
    "        if early_stop_cnt > config['early_stop']:\n",
    "            # Stop training if your model stops improving for \"config['early_stop']\" epochs.\n",
    "            break\n",
    "\n",
    "    print('Finished training after {} epochs'.format(epoch))\n",
    "    return min_mse, loss_record"
   ],
   "execution_count": 388,
   "outputs": []
  },
  {
   "cell_type": "markdown",
   "metadata": {
    "id": "0hSd4Bn3O2PL"
   },
   "source": [
    "## **Validation**"
   ]
  },
  {
   "cell_type": "code",
   "metadata": {
    "id": "yrxrD3YsN3U2",
    "ExecuteTime": {
     "end_time": "2023-11-01T15:18:30.967143Z",
     "start_time": "2023-11-01T15:18:30.857255Z"
    }
   },
   "source": [
    "def dev(dv_set, model, device):\n",
    "    model.eval()                                # set model to evalutation mode\n",
    "    total_loss = 0\n",
    "    for x, y in dv_set:                         # iterate through the dataloader\n",
    "        x, y = x.to(device), y.to(device)       # move data to device (cpu/cuda)\n",
    "        with torch.no_grad():                   # disable gradient calculation 关闭梯度计算，提高运行效率，减少内存消耗\n",
    "            pred = model(x)                     # forward pass (compute output)\n",
    "            mse_loss = model.cal_loss(pred, y)  # compute loss\n",
    "        total_loss += mse_loss.detach().cpu().item() * len(x)  # accumulate loss\n",
    "    total_loss = total_loss / len(dv_set.dataset)              # compute averaged loss\n",
    "\n",
    "    return total_loss"
   ],
   "execution_count": 389,
   "outputs": []
  },
  {
   "cell_type": "markdown",
   "metadata": {
    "id": "g0pdrhQAO41L"
   },
   "source": [
    "## **Testing**"
   ]
  },
  {
   "cell_type": "code",
   "metadata": {
    "id": "aSBMRFlYN5tB",
    "ExecuteTime": {
     "end_time": "2023-11-01T15:18:30.968142500Z",
     "start_time": "2023-11-01T15:18:30.874254600Z"
    }
   },
   "source": [
    "def test(tt_set, model, device):\n",
    "    model.eval()                                # set model to evalutation mode\n",
    "    preds = []\n",
    "    for x in tt_set:                            # iterate through the dataloader\n",
    "        x = x.to(device)                        # move data to device (cpu/cuda)\n",
    "        with torch.no_grad():                   # disable gradient calculation\n",
    "            pred = model(x)                     # forward pass (compute output)\n",
    "            preds.append(pred.detach().cpu())   # collect prediction\n",
    "    preds = torch.cat(preds, dim=0).numpy()     # concatenate all predictions and convert to a numpy array\n",
    "    return preds"
   ],
   "execution_count": 390,
   "outputs": []
  },
  {
   "cell_type": "markdown",
   "metadata": {
    "id": "SvckkF5dvf0j"
   },
   "source": [
    "# **Setup Hyper-parameters**\n",
    "\n",
    "`config` contains hyper-parameters for training and the path to save your model."
   ]
  },
  {
   "cell_type": "code",
   "metadata": {
    "id": "NPXpdumwPjE7",
    "ExecuteTime": {
     "end_time": "2023-11-01T15:18:30.969143Z",
     "start_time": "2023-11-01T15:18:30.889255800Z"
    }
   },
   "source": [
    "device = get_device()                 # get the current available device ('cpu' or 'cuda')\n",
    "os.makedirs('models', exist_ok=True)  # The trained model will be saved to ./models/\n",
    "target_only = True                   # TODO: Using 40 states & 2 tested_positive features\n",
    "\n",
    "# TODO: How to tune these hyper-parameters to improve your model's performance?\n",
    "config = {\n",
    "    'n_epochs': 5000,                # maximum number of epochs\n",
    "    'batch_size': 300,               # mini-batch size for dataloader\n",
    "    'optimizer': 'SGD',              # optimization algorithm (optimizer in torch.optim)\n",
    "    'optim_hparas': {                # hyper-parameters for the optimizer (depends on which optimizer you are using)\n",
    "        'lr': 0.001,                 # learning rate of SGD\n",
    "        'momentum': 0.95              # momentum for SGD\n",
    "    },\n",
    "    'early_stop': 200,               # early stopping epochs (the number epochs since your model's last improvement)\n",
    "    'save_path': 'models/model.pth'  # your model will be saved here\n",
    "}"
   ],
   "execution_count": 391,
   "outputs": []
  },
  {
   "cell_type": "markdown",
   "metadata": {
    "id": "6j1eOV3TOH-j"
   },
   "source": [
    "# **Load data and model**"
   ]
  },
  {
   "cell_type": "code",
   "metadata": {
    "colab": {
     "base_uri": "https://localhost:8080/"
    },
    "id": "eNrYBMmePLKm",
    "outputId": "fcd4f175-4f7e-4306-f33c-5f8285f11dce",
    "ExecuteTime": {
     "end_time": "2023-11-01T15:18:31.212636700Z",
     "start_time": "2023-11-01T15:18:30.903258500Z"
    }
   },
   "source": [
    "tr_set = prep_dataloader(tr_path, 'train', config['batch_size'], target_only=target_only)\n",
    "dv_set = prep_dataloader(tr_path, 'dev', config['batch_size'], target_only=target_only)\n",
    "tt_set = prep_dataloader(tt_path, 'test', config['batch_size'], target_only=target_only)"
   ],
   "execution_count": 392,
   "outputs": [
    {
     "name": "stdout",
     "output_type": "stream",
     "text": [
      "tensor([], size=(2430, 0))\n",
      "tensor([], size=(2430, 0))\n",
      "Finished reading the train set of COVID19 Dataset (2430 samples found, each dim = 14)\n",
      "tensor([], size=(270, 0))\n",
      "tensor([], size=(270, 0))\n",
      "Finished reading the dev set of COVID19 Dataset (270 samples found, each dim = 14)\n",
      "tensor([], size=(893, 0))\n",
      "tensor([], size=(893, 0))\n",
      "Finished reading the test set of COVID19 Dataset (893 samples found, each dim = 14)\n"
     ]
    }
   ]
  },
  {
   "cell_type": "code",
   "metadata": {
    "id": "FHylSirLP9oh",
    "ExecuteTime": {
     "end_time": "2023-11-01T15:18:31.257162Z",
     "start_time": "2023-11-01T15:18:31.214638400Z"
    }
   },
   "source": [
    "model = NeuralNet(tr_set.dataset.dim).to(device)  # Construct model and move to device"
   ],
   "execution_count": 393,
   "outputs": []
  },
  {
   "cell_type": "markdown",
   "metadata": {
    "id": "sX2B_zgSOPTJ"
   },
   "source": [
    "# **Start Training!**"
   ]
  },
  {
   "cell_type": "code",
   "metadata": {
    "colab": {
     "base_uri": "https://localhost:8080/"
    },
    "id": "GrEbUxazQAAZ",
    "outputId": "f4f3bd74-2d97-4275-b69f-6609976b91f9",
    "ExecuteTime": {
     "end_time": "2023-11-01T15:19:09.265182400Z",
     "start_time": "2023-11-01T15:18:31.229191600Z"
    }
   },
   "source": [
    "model_loss, model_loss_record = train(tr_set, dv_set, model, config, device)"
   ],
   "execution_count": 394,
   "outputs": [
    {
     "name": "stdout",
     "output_type": "stream",
     "text": [
      "Saving model (epoch =    1, loss = 155.8329)\n",
      "Saving model (epoch =    4, loss = 113.2788)\n",
      "Saving model (epoch =    5, loss = 39.8565)\n",
      "Saving model (epoch =    6, loss = 8.4301)\n",
      "Saving model (epoch =    7, loss = 8.2260)\n",
      "Saving model (epoch =    8, loss = 7.1184)\n",
      "Saving model (epoch =   10, loss = 3.6964)\n",
      "Saving model (epoch =   11, loss = 3.4225)\n",
      "Saving model (epoch =   12, loss = 3.2384)\n",
      "Saving model (epoch =   17, loss = 3.0285)\n",
      "Saving model (epoch =   20, loss = 2.9495)\n",
      "Saving model (epoch =   31, loss = 2.9065)\n",
      "Saving model (epoch =   34, loss = 2.8271)\n",
      "Saving model (epoch =   35, loss = 2.8111)\n",
      "Saving model (epoch =   55, loss = 2.7427)\n",
      "Saving model (epoch =   58, loss = 2.6386)\n",
      "Saving model (epoch =   61, loss = 2.6204)\n",
      "Saving model (epoch =   62, loss = 2.5717)\n",
      "Saving model (epoch =   65, loss = 2.5678)\n",
      "Saving model (epoch =   75, loss = 2.5311)\n",
      "Saving model (epoch =   80, loss = 2.5291)\n",
      "Saving model (epoch =   83, loss = 2.5113)\n",
      "Saving model (epoch =   86, loss = 2.4543)\n",
      "Saving model (epoch =   95, loss = 2.4444)\n",
      "Saving model (epoch =  114, loss = 2.3891)\n",
      "Saving model (epoch =  120, loss = 2.3477)\n",
      "Saving model (epoch =  126, loss = 2.3221)\n",
      "Saving model (epoch =  158, loss = 2.3048)\n",
      "Saving model (epoch =  167, loss = 2.3010)\n",
      "Saving model (epoch =  174, loss = 2.2693)\n",
      "Saving model (epoch =  189, loss = 2.2568)\n",
      "Saving model (epoch =  195, loss = 2.2362)\n",
      "Saving model (epoch =  229, loss = 2.1768)\n",
      "Saving model (epoch =  240, loss = 2.1756)\n",
      "Saving model (epoch =  255, loss = 2.1583)\n",
      "Saving model (epoch =  268, loss = 2.1485)\n",
      "Saving model (epoch =  271, loss = 2.1395)\n",
      "Saving model (epoch =  286, loss = 2.1367)\n",
      "Saving model (epoch =  308, loss = 2.1189)\n",
      "Saving model (epoch =  310, loss = 2.0703)\n",
      "Saving model (epoch =  440, loss = 2.0474)\n",
      "Saving model (epoch =  443, loss = 2.0287)\n",
      "Saving model (epoch =  475, loss = 2.0091)\n",
      "Saving model (epoch =  501, loss = 1.9937)\n",
      "Saving model (epoch =  597, loss = 1.9908)\n",
      "Saving model (epoch =  607, loss = 1.9838)\n",
      "Saving model (epoch =  679, loss = 1.9778)\n",
      "Saving model (epoch =  682, loss = 1.9744)\n",
      "Saving model (epoch =  700, loss = 1.9703)\n",
      "Saving model (epoch =  899, loss = 1.9658)\n",
      "Finished training after 1100 epochs\n"
     ]
    }
   ]
  },
  {
   "cell_type": "code",
   "metadata": {
    "colab": {
     "base_uri": "https://localhost:8080/",
     "height": 295
    },
    "id": "hsNO9nnXQBvP",
    "outputId": "1626def6-94c7-4a87-9447-d939f827c8eb",
    "ExecuteTime": {
     "end_time": "2023-11-01T15:19:09.393052100Z",
     "start_time": "2023-11-01T15:19:09.260071900Z"
    }
   },
   "source": [
    "plot_learning_curve(model_loss_record, title='deep model')"
   ],
   "execution_count": 395,
   "outputs": [
    {
     "data": {
      "text/plain": "<Figure size 600x400 with 1 Axes>",
      "image/png": "[encoded data removed]"
     },
     "metadata": {},
     "output_type": "display_data"
    }
   ]
  },
  {
   "cell_type": "code",
   "metadata": {
    "colab": {
     "base_uri": "https://localhost:8080/",
     "height": 350
    },
    "id": "3iZTVn5WQFpX",
    "outputId": "a2d5e118-559d-45c6-b644-6792af54663d",
    "ExecuteTime": {
     "end_time": "2023-11-01T15:19:09.535423200Z",
     "start_time": "2023-11-01T15:19:09.393052100Z"
    }
   },
   "source": [
    "del model\n",
    "model = NeuralNet(tr_set.dataset.dim).to(device)\n",
    "ckpt = torch.load(config['save_path'], map_location='cpu')  # Load your best model\n",
    "model.load_state_dict(ckpt)\n",
    "plot_pred(dv_set, model, device)  # Show prediction on the validation set"
   ],
   "execution_count": 396,
   "outputs": [
    {
     "data": {
      "text/plain": "<Figure size 500x500 with 1 Axes>",
      "image/png": "[encoded data removed]"
     },
     "metadata": {},
     "output_type": "display_data"
    }
   ]
  },
  {
   "cell_type": "markdown",
   "metadata": {
    "id": "aQikz3IPiyPf"
   },
   "source": [
    "# **Testing**\n",
    "The predictions of your model on testing set will be stored at `pred.csv`."
   ]
  },
  {
   "cell_type": "code",
   "metadata": {
    "colab": {
     "base_uri": "https://localhost:8080/"
    },
    "id": "O8cTuQjQQOon",
    "outputId": "6bc5de07-4c5a-4e87-9ae3-d09f539c5f2c",
    "ExecuteTime": {
     "end_time": "2023-11-01T15:19:09.568941400Z",
     "start_time": "2023-11-01T15:19:09.534424500Z"
    }
   },
   "source": [
    "def save_pred(preds, file):\n",
    "    ''' Save predictions to specified file '''\n",
    "    print('Saving results to {}'.format(file))\n",
    "    with open(file, 'w') as fp:\n",
    "        writer = csv.writer(fp)\n",
    "        writer.writerow(['id', 'tested_positive'])\n",
    "        for i, p in enumerate(preds):\n",
    "            writer.writerow([i, p])\n",
    "\n",
    "preds = test(tt_set, model, device)  # predict COVID-19 cases with your model\n",
    "save_pred(preds, 'pred.csv')         # save prediction file to pred.csv"
   ],
   "execution_count": 397,
   "outputs": [
    {
     "name": "stdout",
     "output_type": "stream",
     "text": [
      "Saving results to pred.csv\n"
     ]
    }
   ]
  },
  {
   "cell_type": "markdown",
   "metadata": {
    "id": "nfrVxqJanGpE"
   },
   "source": [
    "# **Hints**\n",
    "\n",
    "## **Simple Baseline**\n",
    "* Run sample code\n",
    "\n",
    "## **Medium Baseline**\n",
    "* Feature selection: 40 states + 2 `tested_positive` (`TODO` in dataset)\n",
    "\n",
    "## **Strong Baseline**\n",
    "* Feature selection (what other features are useful?)\n",
    "* DNN architecture (layers? dimension? activation function?)\n",
    "* Training (mini-batch? optimizer? learning rate?)\n",
    "* L2 regularization\n",
    "* There are some mistakes in the sample code, can you find them?"
   ]
  },
  {
   "cell_type": "markdown",
   "metadata": {
    "id": "9tmCwXgpot3t"
   },
   "source": [
    "# **Reference**\n",
    "This code is completely written by Heng-Jui Chang @ NTUEE.  \n",
    "Copying or reusing this code is required to specify the original author. \n",
    "\n",
    "E.g.  \n",
    "Source: Heng-Jui Chang @ NTUEE (https://github.com/ga642381/ML2021-Spring/blob/main/HW01/HW01.ipynb)\n"
   ]
  },
  {
   "cell_type": "code",
   "execution_count": 397,
   "outputs": [],
   "source": [],
   "metadata": {
    "collapsed": false,
    "ExecuteTime": {
     "end_time": "2023-11-01T15:19:09.579940600Z",
     "start_time": "2023-11-01T15:19:09.561426300Z"
    }
   }
  },
  {
   "cell_type": "code",
   "execution_count": 397,
   "outputs": [],
   "source": [],
   "metadata": {
    "collapsed": false,
    "ExecuteTime": {
     "end_time": "2023-11-01T15:19:09.620965100Z",
     "start_time": "2023-11-01T15:19:09.576940200Z"
    }
   }
  }
 ]
}
